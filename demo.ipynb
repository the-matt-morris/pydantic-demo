{
 "cells": [
  {
   "cell_type": "markdown",
   "metadata": {},
   "source": [
    "# Pydantic Demo"
   ]
  },
  {
   "cell_type": "markdown",
   "metadata": {},
   "source": [
    "### Python Type Hinting"
   ]
  },
  {
   "cell_type": "code",
   "execution_count": 44,
   "metadata": {},
   "outputs": [
    {
     "data": {
      "text/plain": [
       "12.25"
      ]
     },
     "execution_count": 44,
     "metadata": {},
     "output_type": "execute_result"
    }
   ],
   "source": [
    "# Static type hinting (not enforced)\n",
    "\n",
    "def square(x: int) -> float:\n",
    "    return x**2\n",
    "\n",
    "\n",
    "square(3.5)"
   ]
  },
  {
   "cell_type": "markdown",
   "metadata": {},
   "source": [
    "### BaseModel"
   ]
  },
  {
   "cell_type": "code",
   "execution_count": 49,
   "metadata": {},
   "outputs": [],
   "source": [
    "from typing import List, Literal, Optional\n",
    "from pydantic import BaseModel, SecretStr, HttpUrl, Field\n",
    "\n",
    "\n",
    "class Column(BaseModel):\n",
    "    name: str\n",
    "    dtype: Literal[\"integer\", \"float\", \"string\", \"boolean\"]\n",
    "    primary_key: bool = False\n",
    "    description: Optional[str] = None\n",
    "\n",
    "\n",
    "class Table(BaseModel):\n",
    "    name: str\n",
    "    columns: List[Column]\n",
    "\n",
    "\n",
    "class Database(BaseModel):\n",
    "    connection_string: HttpUrl\n",
    "    user: str = Field(strip_whitespace=True)\n",
    "    password: SecretStr\n",
    "    tables: List[Table]"
   ]
  },
  {
   "cell_type": "code",
   "execution_count": 52,
   "metadata": {},
   "outputs": [],
   "source": [
    "# Valid data\n",
    "my_table = Table(\n",
    "    name=\"my_table\",\n",
    "    columns=[\n",
    "        Column(name=\"field1\", dtype=\"string\", primary_key=True),\n",
    "        Column(name=\"field2\", dtype=\"integer\", description=\"My description\")\n",
    "    ]\n",
    ")\n",
    "\n",
    "my_db = Database(\n",
    "    connection_string=\"https://www.rsginc.com:9999\",\n",
    "    user=\"me\",\n",
    "    password=\"CorrectHorseBatteryStaple\",\n",
    "    tables=[my_table],\n",
    ")"
   ]
  },
  {
   "cell_type": "code",
   "execution_count": 58,
   "metadata": {},
   "outputs": [
    {
     "name": "stdout",
     "output_type": "stream",
     "text": [
      "{'connection_string': HttpUrl('https://www.rsginc.com:9999', scheme='https', host='www.rsginc.com', tld='com', host_type='domain', port='9999'),\n",
      " 'password': SecretStr('**********'),\n",
      " 'tables': [Table(name='my_table', columns=[Column(name='field1', dtype='string', primary_key=True, description=None), Column(name='field2', dtype='integer', primary_key=False, description='My description')])],\n",
      " 'user': 'me'}\n"
     ]
    }
   ],
   "source": [
    "from pprint import pprint\n",
    "\n",
    "# Check out values.  Notice that password is not displayed\n",
    "pprint(dict(my_db))"
   ]
  },
  {
   "cell_type": "code",
   "execution_count": 59,
   "metadata": {},
   "outputs": [
    {
     "data": {
      "text/plain": [
       "{'title': 'Database',\n",
       " 'type': 'object',\n",
       " 'properties': {'connection_string': {'title': 'Connection String',\n",
       "   'minLength': 1,\n",
       "   'maxLength': 2083,\n",
       "   'format': 'uri',\n",
       "   'type': 'string'},\n",
       "  'user': {'title': 'User', 'strip_whitespace': True, 'type': 'string'},\n",
       "  'password': {'title': 'Password',\n",
       "   'type': 'string',\n",
       "   'writeOnly': True,\n",
       "   'format': 'password'},\n",
       "  'tables': {'title': 'Tables',\n",
       "   'type': 'array',\n",
       "   'items': {'$ref': '#/definitions/Table'}}},\n",
       " 'required': ['connection_string', 'user', 'password', 'tables'],\n",
       " 'definitions': {'Column': {'title': 'Column',\n",
       "   'type': 'object',\n",
       "   'properties': {'name': {'title': 'Name', 'type': 'string'},\n",
       "    'dtype': {'title': 'Dtype',\n",
       "     'enum': ['integer', 'float', 'string', 'boolean'],\n",
       "     'type': 'string'},\n",
       "    'primary_key': {'title': 'Primary Key',\n",
       "     'default': False,\n",
       "     'type': 'boolean'},\n",
       "    'description': {'title': 'Description', 'type': 'string'}},\n",
       "   'required': ['name', 'dtype']},\n",
       "  'Table': {'title': 'Table',\n",
       "   'type': 'object',\n",
       "   'properties': {'name': {'title': 'Name', 'type': 'string'},\n",
       "    'columns': {'title': 'Columns',\n",
       "     'type': 'array',\n",
       "     'items': {'$ref': '#/definitions/Column'}}},\n",
       "   'required': ['name', 'columns']}}}"
      ]
     },
     "execution_count": 59,
     "metadata": {},
     "output_type": "execute_result"
    }
   ],
   "source": [
    "# Print schema\n",
    "my_db.schema()"
   ]
  },
  {
   "cell_type": "code",
   "execution_count": 53,
   "metadata": {},
   "outputs": [
    {
     "data": {
      "text/plain": [
       "SecretStr('**********')"
      ]
     },
     "execution_count": 53,
     "metadata": {},
     "output_type": "execute_result"
    }
   ],
   "source": [
    "my_db.password"
   ]
  },
  {
   "cell_type": "code",
   "execution_count": 54,
   "metadata": {},
   "outputs": [
    {
     "data": {
      "text/plain": [
       "'CorrectHorseBatteryStaple'"
      ]
     },
     "execution_count": 54,
     "metadata": {},
     "output_type": "execute_result"
    }
   ],
   "source": [
    "my_db.password._secret_value"
   ]
  },
  {
   "cell_type": "markdown",
   "metadata": {},
   "source": [
    "### In Functions"
   ]
  },
  {
   "cell_type": "code",
   "execution_count": 64,
   "metadata": {},
   "outputs": [],
   "source": [
    "# Use @validate_arguments decorator\n",
    "from pydantic import validate_arguments\n",
    "\n",
    "\n",
    "@validate_arguments\n",
    "def my_function(crs: CRS, foo = None, bar = None):\n",
    "    return crs"
   ]
  },
  {
   "cell_type": "code",
   "execution_count": 65,
   "metadata": {},
   "outputs": [
    {
     "data": {
      "text/plain": [
       "'EPSG:4326'"
      ]
     },
     "execution_count": 65,
     "metadata": {},
     "output_type": "execute_result"
    }
   ],
   "source": [
    "# Valid\n",
    "my_function(\"EPSG:4326\")"
   ]
  },
  {
   "cell_type": "code",
   "execution_count": 66,
   "metadata": {},
   "outputs": [
    {
     "ename": "ValidationError",
     "evalue": "1 validation error for MyFunction\ncrs\n  invalid CRS! (type=value_error)",
     "output_type": "error",
     "traceback": [
      "\u001b[0;31m---------------------------------------------------------------------------\u001b[0m",
      "\u001b[0;31mValidationError\u001b[0m                           Traceback (most recent call last)",
      "\u001b[1;32m/workspaces/pydantic-demo/demo.ipynb Cell 18'\u001b[0m in \u001b[0;36m<cell line: 2>\u001b[0;34m()\u001b[0m\n\u001b[1;32m      <a href='vscode-notebook-cell://dev-container%2B633a5c55736572735c6d6174742e6d6f727269735c70726f6a656374735c707964616e7469632d64656d6f/workspaces/pydantic-demo/demo.ipynb#ch0000040vscode-remote?line=0'>1</a>\u001b[0m \u001b[39m# Invalid\u001b[39;00m\n\u001b[0;32m----> <a href='vscode-notebook-cell://dev-container%2B633a5c55736572735c6d6174742e6d6f727269735c70726f6a656374735c707964616e7469632d64656d6f/workspaces/pydantic-demo/demo.ipynb#ch0000040vscode-remote?line=1'>2</a>\u001b[0m my_function(\u001b[39m\"\u001b[39;49m\u001b[39mMY_STRING\u001b[39;49m\u001b[39m\"\u001b[39;49m)\n",
      "File \u001b[0;32m/usr/local/lib/python3.10/site-packages/pydantic/decorator.py:40\u001b[0m, in \u001b[0;36mpydantic.decorator.validate_arguments.validate.wrapper_function\u001b[0;34m()\u001b[0m\n",
      "File \u001b[0;32m/usr/local/lib/python3.10/site-packages/pydantic/decorator.py:133\u001b[0m, in \u001b[0;36mpydantic.decorator.ValidatedFunction.call\u001b[0;34m()\u001b[0m\n",
      "File \u001b[0;32m/usr/local/lib/python3.10/site-packages/pydantic/decorator.py:130\u001b[0m, in \u001b[0;36mpydantic.decorator.ValidatedFunction.init_model_instance\u001b[0;34m()\u001b[0m\n",
      "File \u001b[0;32m/usr/local/lib/python3.10/site-packages/pydantic/main.py:331\u001b[0m, in \u001b[0;36mpydantic.main.BaseModel.__init__\u001b[0;34m()\u001b[0m\n",
      "\u001b[0;31mValidationError\u001b[0m: 1 validation error for MyFunction\ncrs\n  invalid CRS! (type=value_error)"
     ]
    }
   ],
   "source": [
    "# Invalid\n",
    "my_function(\"MY_STRING\")"
   ]
  },
  {
   "cell_type": "markdown",
   "metadata": {},
   "source": [
    "### Validators"
   ]
  },
  {
   "cell_type": "markdown",
   "metadata": {},
   "source": [
    "### Constrained Types"
   ]
  },
  {
   "cell_type": "markdown",
   "metadata": {},
   "source": [
    "#### Numerics"
   ]
  },
  {
   "cell_type": "code",
   "execution_count": 67,
   "metadata": {},
   "outputs": [],
   "source": [
    "from pydantic import (\n",
    "    NegativeFloat,\n",
    "    NegativeInt,\n",
    "    NonNegativeFloat,\n",
    "    NonNegativeInt,\n",
    "    NonPositiveFloat,\n",
    "    NonPositiveInt,\n",
    "    PositiveFloat,\n",
    "    PositiveInt,\n",
    ")\n",
    "\n",
    "\n",
    "class MyModel(BaseModel):\n",
    "    n_float: NegativeFloat  # < 0\n",
    "    n_int: NegativeInt  # < 0\n",
    "    nn_float: NonNegativeFloat  # >= 0\n",
    "    nn_int: NonNegativeInt  # >= 0\n",
    "    np_float: NonPositiveFloat  # <= 0\n",
    "    np_int: NonPositiveInt  # <= 0\n",
    "    p_float: PositiveFloat  # > 0\n",
    "    p_int: PositiveInt  # > 0\n",
    "\n",
    "\n",
    "# Valid\n",
    "my_instance = MyModel(\n",
    "    n_float=-1.5,\n",
    "    n_int=-1,\n",
    "    nn_float=0,  # will be coerced to float unless we specify strict to be True\n",
    "    nn_int=0,\n",
    "    np_float=0,\n",
    "    np_int=0,\n",
    "    p_float=3.14,\n",
    "    p_int=10,\n",
    ")"
   ]
  },
  {
   "cell_type": "code",
   "execution_count": 68,
   "metadata": {},
   "outputs": [
    {
     "ename": "ValidationError",
     "evalue": "8 validation errors for MyModel\nn_float\n  ensure this value is less than 0 (type=value_error.number.not_lt; limit_value=0)\nn_int\n  ensure this value is less than 0 (type=value_error.number.not_lt; limit_value=0)\nnn_float\n  ensure this value is greater than or equal to 0 (type=value_error.number.not_ge; limit_value=0)\nnn_int\n  ensure this value is greater than or equal to 0 (type=value_error.number.not_ge; limit_value=0)\nnp_float\n  ensure this value is less than or equal to 0 (type=value_error.number.not_le; limit_value=0)\nnp_int\n  ensure this value is less than or equal to 0 (type=value_error.number.not_le; limit_value=0)\np_float\n  ensure this value is greater than 0 (type=value_error.number.not_gt; limit_value=0)\np_int\n  ensure this value is greater than 0 (type=value_error.number.not_gt; limit_value=0)",
     "output_type": "error",
     "traceback": [
      "\u001b[0;31m---------------------------------------------------------------------------\u001b[0m",
      "\u001b[0;31mValidationError\u001b[0m                           Traceback (most recent call last)",
      "\u001b[1;32m/workspaces/pydantic-demo/demo.ipynb Cell 23'\u001b[0m in \u001b[0;36m<cell line: 2>\u001b[0;34m()\u001b[0m\n\u001b[1;32m      <a href='vscode-notebook-cell://dev-container%2B633a5c55736572735c6d6174742e6d6f727269735c70726f6a656374735c707964616e7469632d64656d6f/workspaces/pydantic-demo/demo.ipynb#ch0000043vscode-remote?line=0'>1</a>\u001b[0m \u001b[39m# Invalid\u001b[39;00m\n\u001b[0;32m----> <a href='vscode-notebook-cell://dev-container%2B633a5c55736572735c6d6174742e6d6f727269735c70726f6a656374735c707964616e7469632d64656d6f/workspaces/pydantic-demo/demo.ipynb#ch0000043vscode-remote?line=1'>2</a>\u001b[0m my_instance\u001b[39m=\u001b[39mMyModel(\n\u001b[1;32m      <a href='vscode-notebook-cell://dev-container%2B633a5c55736572735c6d6174742e6d6f727269735c70726f6a656374735c707964616e7469632d64656d6f/workspaces/pydantic-demo/demo.ipynb#ch0000043vscode-remote?line=2'>3</a>\u001b[0m     n_float\u001b[39m=\u001b[39;49m\u001b[39m0\u001b[39;49m,\n\u001b[1;32m      <a href='vscode-notebook-cell://dev-container%2B633a5c55736572735c6d6174742e6d6f727269735c70726f6a656374735c707964616e7469632d64656d6f/workspaces/pydantic-demo/demo.ipynb#ch0000043vscode-remote?line=3'>4</a>\u001b[0m     n_int\u001b[39m=\u001b[39;49m\u001b[39m0\u001b[39;49m,\n\u001b[1;32m      <a href='vscode-notebook-cell://dev-container%2B633a5c55736572735c6d6174742e6d6f727269735c70726f6a656374735c707964616e7469632d64656d6f/workspaces/pydantic-demo/demo.ipynb#ch0000043vscode-remote?line=4'>5</a>\u001b[0m     nn_float\u001b[39m=\u001b[39;49m\u001b[39m-\u001b[39;49m\u001b[39m1.5\u001b[39;49m,\n\u001b[1;32m      <a href='vscode-notebook-cell://dev-container%2B633a5c55736572735c6d6174742e6d6f727269735c70726f6a656374735c707964616e7469632d64656d6f/workspaces/pydantic-demo/demo.ipynb#ch0000043vscode-remote?line=5'>6</a>\u001b[0m     nn_int\u001b[39m=\u001b[39;49m\u001b[39m-\u001b[39;49m\u001b[39m1\u001b[39;49m,\n\u001b[1;32m      <a href='vscode-notebook-cell://dev-container%2B633a5c55736572735c6d6174742e6d6f727269735c70726f6a656374735c707964616e7469632d64656d6f/workspaces/pydantic-demo/demo.ipynb#ch0000043vscode-remote?line=6'>7</a>\u001b[0m     np_float\u001b[39m=\u001b[39;49m\u001b[39m1.5\u001b[39;49m,\n\u001b[1;32m      <a href='vscode-notebook-cell://dev-container%2B633a5c55736572735c6d6174742e6d6f727269735c70726f6a656374735c707964616e7469632d64656d6f/workspaces/pydantic-demo/demo.ipynb#ch0000043vscode-remote?line=7'>8</a>\u001b[0m     np_int\u001b[39m=\u001b[39;49m\u001b[39m1\u001b[39;49m,\n\u001b[1;32m      <a href='vscode-notebook-cell://dev-container%2B633a5c55736572735c6d6174742e6d6f727269735c70726f6a656374735c707964616e7469632d64656d6f/workspaces/pydantic-demo/demo.ipynb#ch0000043vscode-remote?line=8'>9</a>\u001b[0m     p_float\u001b[39m=\u001b[39;49m\u001b[39m0\u001b[39;49m,\n\u001b[1;32m     <a href='vscode-notebook-cell://dev-container%2B633a5c55736572735c6d6174742e6d6f727269735c70726f6a656374735c707964616e7469632d64656d6f/workspaces/pydantic-demo/demo.ipynb#ch0000043vscode-remote?line=9'>10</a>\u001b[0m     p_int\u001b[39m=\u001b[39;49m\u001b[39m0\u001b[39;49m,\n\u001b[1;32m     <a href='vscode-notebook-cell://dev-container%2B633a5c55736572735c6d6174742e6d6f727269735c70726f6a656374735c707964616e7469632d64656d6f/workspaces/pydantic-demo/demo.ipynb#ch0000043vscode-remote?line=10'>11</a>\u001b[0m )\n",
      "File \u001b[0;32m/usr/local/lib/python3.10/site-packages/pydantic/main.py:331\u001b[0m, in \u001b[0;36mpydantic.main.BaseModel.__init__\u001b[0;34m()\u001b[0m\n",
      "\u001b[0;31mValidationError\u001b[0m: 8 validation errors for MyModel\nn_float\n  ensure this value is less than 0 (type=value_error.number.not_lt; limit_value=0)\nn_int\n  ensure this value is less than 0 (type=value_error.number.not_lt; limit_value=0)\nnn_float\n  ensure this value is greater than or equal to 0 (type=value_error.number.not_ge; limit_value=0)\nnn_int\n  ensure this value is greater than or equal to 0 (type=value_error.number.not_ge; limit_value=0)\nnp_float\n  ensure this value is less than or equal to 0 (type=value_error.number.not_le; limit_value=0)\nnp_int\n  ensure this value is less than or equal to 0 (type=value_error.number.not_le; limit_value=0)\np_float\n  ensure this value is greater than 0 (type=value_error.number.not_gt; limit_value=0)\np_int\n  ensure this value is greater than 0 (type=value_error.number.not_gt; limit_value=0)"
     ]
    }
   ],
   "source": [
    "# Invalid\n",
    "my_instance=MyModel(\n",
    "    n_float=0,\n",
    "    n_int=0,\n",
    "    nn_float=-1.5,\n",
    "    nn_int=-1,\n",
    "    np_float=1.5,\n",
    "    np_int=1,\n",
    "    p_float=0,\n",
    "    p_int=0,\n",
    ")"
   ]
  },
  {
   "cell_type": "markdown",
   "metadata": {},
   "source": [
    "### File, Directory Paths"
   ]
  },
  {
   "cell_type": "code",
   "execution_count": 71,
   "metadata": {},
   "outputs": [],
   "source": [
    "from pydantic import DirectoryPath, FilePath\n",
    "\n",
    "\n",
    "class MyModel(BaseModel):\n",
    "    my_directory: DirectoryPath  # directory must exist\n",
    "    my_file: FilePath  # file must exist\n",
    "\n",
    "\n",
    "# Valid\n",
    "my_instance = MyModel(my_directory=\"secrets\", my_file=\"Dockerfile\")"
   ]
  },
  {
   "cell_type": "code",
   "execution_count": 72,
   "metadata": {},
   "outputs": [
    {
     "ename": "ValidationError",
     "evalue": "2 validation errors for MyModel\nmy_directory\n  file or directory at path \"missing_directory\" does not exist (type=value_error.path.not_exists; path=missing_directory)\nmy_file\n  file or directory at path \"missing_file\" does not exist (type=value_error.path.not_exists; path=missing_file)",
     "output_type": "error",
     "traceback": [
      "\u001b[0;31m---------------------------------------------------------------------------\u001b[0m",
      "\u001b[0;31mValidationError\u001b[0m                           Traceback (most recent call last)",
      "\u001b[1;32m/workspaces/pydantic-demo/demo.ipynb Cell 26'\u001b[0m in \u001b[0;36m<cell line: 2>\u001b[0;34m()\u001b[0m\n\u001b[1;32m      <a href='vscode-notebook-cell://dev-container%2B633a5c55736572735c6d6174742e6d6f727269735c70726f6a656374735c707964616e7469632d64656d6f/workspaces/pydantic-demo/demo.ipynb#ch0000046vscode-remote?line=0'>1</a>\u001b[0m \u001b[39m# Invalid\u001b[39;00m\n\u001b[0;32m----> <a href='vscode-notebook-cell://dev-container%2B633a5c55736572735c6d6174742e6d6f727269735c70726f6a656374735c707964616e7469632d64656d6f/workspaces/pydantic-demo/demo.ipynb#ch0000046vscode-remote?line=1'>2</a>\u001b[0m my_instance \u001b[39m=\u001b[39m MyModel(my_directory\u001b[39m=\u001b[39;49m\u001b[39m\"\u001b[39;49m\u001b[39mmissing_directory\u001b[39;49m\u001b[39m\"\u001b[39;49m, my_file\u001b[39m=\u001b[39;49m\u001b[39m\"\u001b[39;49m\u001b[39mmissing_file\u001b[39;49m\u001b[39m\"\u001b[39;49m)\n",
      "File \u001b[0;32m/usr/local/lib/python3.10/site-packages/pydantic/main.py:331\u001b[0m, in \u001b[0;36mpydantic.main.BaseModel.__init__\u001b[0;34m()\u001b[0m\n",
      "\u001b[0;31mValidationError\u001b[0m: 2 validation errors for MyModel\nmy_directory\n  file or directory at path \"missing_directory\" does not exist (type=value_error.path.not_exists; path=missing_directory)\nmy_file\n  file or directory at path \"missing_file\" does not exist (type=value_error.path.not_exists; path=missing_file)"
     ]
    }
   ],
   "source": [
    "# Invalid\n",
    "my_instance = MyModel(my_directory=\"missing_directory\", my_file=\"missing_file\")"
   ]
  },
  {
   "cell_type": "markdown",
   "metadata": {},
   "source": [
    "### Strings"
   ]
  },
  {
   "cell_type": "code",
   "execution_count": 79,
   "metadata": {},
   "outputs": [
    {
     "name": "stdout",
     "output_type": "stream",
     "text": [
      "Visa\n",
      "400000\n",
      "0002\n",
      "400000******0002\n"
     ]
    }
   ],
   "source": [
    "from pydantic import FutureDate, PaymentCardNumber\n",
    "from pydantic.types import PaymentCardBrand\n",
    "\n",
    "\n",
    "class MyModel(BaseModel):\n",
    "    first: str = Field(strip_whitespace=True, min_length=1)\n",
    "    last: str = Field(strip_whitespace=True, min_length=1)\n",
    "    exp: FutureDate\n",
    "    cc_no: PaymentCardNumber\n",
    "    postalcd: str = Field(strip_whitespace=True, regex=r\"^\\d{5}(?:\\-\\d{4})?$\")\n",
    "\n",
    "    @property\n",
    "    def cc_brand(self) -> PaymentCardBrand:\n",
    "        return self.cc_no.brand\n",
    "\n",
    "\n",
    "# valid\n",
    "my_instance = MyModel(\n",
    "    first=\"Matt\",\n",
    "    last=\"Morris\",\n",
    "    exp=\"2099-12-31\",\n",
    "    cc_no=\"4000000000000002\",\n",
    "    postalcd=\"20500\",\n",
    ")\n",
    "\n",
    "print(my_instance.cc_no.brand)\n",
    "print(my_instance.cc_no.bin)\n",
    "print(my_instance.cc_no.last4)\n",
    "print(my_instance.cc_no.masked)"
   ]
  },
  {
   "cell_type": "code",
   "execution_count": 81,
   "metadata": {},
   "outputs": [
    {
     "ename": "ValidationError",
     "evalue": "5 validation errors for MyModel\nfirst\n  ensure this value has at least 1 characters (type=value_error.any_str.min_length; limit_value=1)\nlast\n  ensure this value has at least 1 characters (type=value_error.any_str.min_length; limit_value=1)\nexp\n  date is not in the future (type=value_error.date.not_in_the_future)\ncc_no\n  ensure this value has at least 12 characters (type=value_error.any_str.min_length; limit_value=12)\npostalcd\n  string does not match regex \"^\\d{5}(?:\\-\\d{4})?$\" (type=value_error.str.regex; pattern=^\\d{5}(?:\\-\\d{4})?$)",
     "output_type": "error",
     "traceback": [
      "\u001b[0;31m---------------------------------------------------------------------------\u001b[0m",
      "\u001b[0;31mValidationError\u001b[0m                           Traceback (most recent call last)",
      "\u001b[1;32m/workspaces/pydantic-demo/demo.ipynb Cell 29'\u001b[0m in \u001b[0;36m<cell line: 2>\u001b[0;34m()\u001b[0m\n\u001b[1;32m      <a href='vscode-notebook-cell://dev-container%2B633a5c55736572735c6d6174742e6d6f727269735c70726f6a656374735c707964616e7469632d64656d6f/workspaces/pydantic-demo/demo.ipynb#ch0000048vscode-remote?line=0'>1</a>\u001b[0m \u001b[39m# Invalid\u001b[39;00m\n\u001b[0;32m----> <a href='vscode-notebook-cell://dev-container%2B633a5c55736572735c6d6174742e6d6f727269735c70726f6a656374735c707964616e7469632d64656d6f/workspaces/pydantic-demo/demo.ipynb#ch0000048vscode-remote?line=1'>2</a>\u001b[0m my_instance \u001b[39m=\u001b[39m MyModel(\n\u001b[1;32m      <a href='vscode-notebook-cell://dev-container%2B633a5c55736572735c6d6174742e6d6f727269735c70726f6a656374735c707964616e7469632d64656d6f/workspaces/pydantic-demo/demo.ipynb#ch0000048vscode-remote?line=2'>3</a>\u001b[0m     first\u001b[39m=\u001b[39;49m\u001b[39m\"\u001b[39;49m\u001b[39m\"\u001b[39;49m,\n\u001b[1;32m      <a href='vscode-notebook-cell://dev-container%2B633a5c55736572735c6d6174742e6d6f727269735c70726f6a656374735c707964616e7469632d64656d6f/workspaces/pydantic-demo/demo.ipynb#ch0000048vscode-remote?line=3'>4</a>\u001b[0m     last\u001b[39m=\u001b[39;49m\u001b[39m\"\u001b[39;49m\u001b[39m\"\u001b[39;49m,\n\u001b[1;32m      <a href='vscode-notebook-cell://dev-container%2B633a5c55736572735c6d6174742e6d6f727269735c70726f6a656374735c707964616e7469632d64656d6f/workspaces/pydantic-demo/demo.ipynb#ch0000048vscode-remote?line=4'>5</a>\u001b[0m     exp\u001b[39m=\u001b[39;49m\u001b[39m\"\u001b[39;49m\u001b[39m2000-01-01\u001b[39;49m\u001b[39m\"\u001b[39;49m,\n\u001b[1;32m      <a href='vscode-notebook-cell://dev-container%2B633a5c55736572735c6d6174742e6d6f727269735c70726f6a656374735c707964616e7469632d64656d6f/workspaces/pydantic-demo/demo.ipynb#ch0000048vscode-remote?line=5'>6</a>\u001b[0m     cc_no\u001b[39m=\u001b[39;49m\u001b[39m\"\u001b[39;49m\u001b[39m1234\u001b[39;49m\u001b[39m\"\u001b[39;49m,\n\u001b[1;32m      <a href='vscode-notebook-cell://dev-container%2B633a5c55736572735c6d6174742e6d6f727269735c70726f6a656374735c707964616e7469632d64656d6f/workspaces/pydantic-demo/demo.ipynb#ch0000048vscode-remote?line=6'>7</a>\u001b[0m     postalcd\u001b[39m=\u001b[39;49m\u001b[39m\"\u001b[39;49m\u001b[39mwould\u001b[39;49m\u001b[39m'\u001b[39;49m\u001b[39mt you like to know\u001b[39;49m\u001b[39m\"\u001b[39;49m,\n\u001b[1;32m      <a href='vscode-notebook-cell://dev-container%2B633a5c55736572735c6d6174742e6d6f727269735c70726f6a656374735c707964616e7469632d64656d6f/workspaces/pydantic-demo/demo.ipynb#ch0000048vscode-remote?line=7'>8</a>\u001b[0m )\n",
      "File \u001b[0;32m/usr/local/lib/python3.10/site-packages/pydantic/main.py:331\u001b[0m, in \u001b[0;36mpydantic.main.BaseModel.__init__\u001b[0;34m()\u001b[0m\n",
      "\u001b[0;31mValidationError\u001b[0m: 5 validation errors for MyModel\nfirst\n  ensure this value has at least 1 characters (type=value_error.any_str.min_length; limit_value=1)\nlast\n  ensure this value has at least 1 characters (type=value_error.any_str.min_length; limit_value=1)\nexp\n  date is not in the future (type=value_error.date.not_in_the_future)\ncc_no\n  ensure this value has at least 12 characters (type=value_error.any_str.min_length; limit_value=12)\npostalcd\n  string does not match regex \"^\\d{5}(?:\\-\\d{4})?$\" (type=value_error.str.regex; pattern=^\\d{5}(?:\\-\\d{4})?$)"
     ]
    }
   ],
   "source": [
    "# Invalid\n",
    "my_instance = MyModel(\n",
    "    first=\"\",\n",
    "    last=\"\",\n",
    "    exp=\"2000-01-01\",\n",
    "    cc_no=\"1234\",\n",
    "    postalcd=\"would't you like to know\",\n",
    ")"
   ]
  },
  {
   "cell_type": "markdown",
   "metadata": {},
   "source": [
    "### Custom Types"
   ]
  },
  {
   "cell_type": "code",
   "execution_count": 83,
   "metadata": {},
   "outputs": [
    {
     "data": {
      "text/plain": [
       "0.5"
      ]
     },
     "execution_count": 83,
     "metadata": {},
     "output_type": "execute_result"
    }
   ],
   "source": [
    "from pydantic import ConstrainedFloat, Field\n",
    "\n",
    "\n",
    "# Number between 0 and 1\n",
    "class Proportion(ConstrainedFloat):\n",
    "    ge=0\n",
    "    le=1\n",
    "\n",
    "\n",
    "@validate_arguments\n",
    "def my_function(id_var: Proportion):\n",
    "    return id_var\n",
    "\n",
    "\n",
    "# Valid\n",
    "my_function(0.5)"
   ]
  },
  {
   "cell_type": "code",
   "execution_count": 84,
   "metadata": {},
   "outputs": [
    {
     "ename": "ValidationError",
     "evalue": "1 validation error for MyFunction\nid_var\n  ensure this value is less than or equal to 1 (type=value_error.number.not_le; limit_value=1)",
     "output_type": "error",
     "traceback": [
      "\u001b[0;31m---------------------------------------------------------------------------\u001b[0m",
      "\u001b[0;31mValidationError\u001b[0m                           Traceback (most recent call last)",
      "\u001b[1;32m/workspaces/pydantic-demo/demo.ipynb Cell 31'\u001b[0m in \u001b[0;36m<cell line: 2>\u001b[0;34m()\u001b[0m\n\u001b[1;32m      <a href='vscode-notebook-cell://dev-container%2B633a5c55736572735c6d6174742e6d6f727269735c70726f6a656374735c707964616e7469632d64656d6f/workspaces/pydantic-demo/demo.ipynb#ch0000049vscode-remote?line=0'>1</a>\u001b[0m \u001b[39m# Invalid\u001b[39;00m\n\u001b[0;32m----> <a href='vscode-notebook-cell://dev-container%2B633a5c55736572735c6d6174742e6d6f727269735c70726f6a656374735c707964616e7469632d64656d6f/workspaces/pydantic-demo/demo.ipynb#ch0000049vscode-remote?line=1'>2</a>\u001b[0m my_function(\u001b[39m2\u001b[39;49m)\n",
      "File \u001b[0;32m/usr/local/lib/python3.10/site-packages/pydantic/decorator.py:40\u001b[0m, in \u001b[0;36mpydantic.decorator.validate_arguments.validate.wrapper_function\u001b[0;34m()\u001b[0m\n",
      "File \u001b[0;32m/usr/local/lib/python3.10/site-packages/pydantic/decorator.py:133\u001b[0m, in \u001b[0;36mpydantic.decorator.ValidatedFunction.call\u001b[0;34m()\u001b[0m\n",
      "File \u001b[0;32m/usr/local/lib/python3.10/site-packages/pydantic/decorator.py:130\u001b[0m, in \u001b[0;36mpydantic.decorator.ValidatedFunction.init_model_instance\u001b[0;34m()\u001b[0m\n",
      "File \u001b[0;32m/usr/local/lib/python3.10/site-packages/pydantic/main.py:331\u001b[0m, in \u001b[0;36mpydantic.main.BaseModel.__init__\u001b[0;34m()\u001b[0m\n",
      "\u001b[0;31mValidationError\u001b[0m: 1 validation error for MyFunction\nid_var\n  ensure this value is less than or equal to 1 (type=value_error.number.not_le; limit_value=1)"
     ]
    }
   ],
   "source": [
    "# Invalid\n",
    "my_function(2)"
   ]
  },
  {
   "cell_type": "code",
   "execution_count": 86,
   "metadata": {},
   "outputs": [],
   "source": [
    "# CRS (from rxy pipeline)\n",
    "import re\n",
    "\n",
    "\n",
    "CRS_REGEX = r\"(EPSG|ESRI|SR-ORG|IAU2000):\\d{2,8}\"\n",
    "\n",
    "\n",
    "class CRS(str):\n",
    "    \"\"\"\n",
    "    String formatted as legitimate CRS with custom validation\n",
    "    (see https://pydantic-docs.helpmanual.io/usage/types/#custom-data-types)\n",
    "\n",
    "    Usage:\n",
    "\n",
    "    ```python\n",
    "    # In function\n",
    "    from pydantic import validate_arguments\n",
    "\n",
    "    @validate_arguments\n",
    "    def my_func(crs: CRS, ...):\n",
    "        # Do something with crs\n",
    "        ...\n",
    "\n",
    "    # In BaseModel\n",
    "    from pydantic import BaseModel\n",
    "\n",
    "    class MyModel(BaseModel):\n",
    "        crs: CRS\n",
    "        ...\n",
    "    ```\n",
    "    \"\"\"\n",
    "\n",
    "    @classmethod\n",
    "    def __get_validators__(cls):\n",
    "        yield cls.validate\n",
    "\n",
    "    @classmethod\n",
    "    def __modify_schema__(cls, field_schema):\n",
    "        field_schema.update(\n",
    "            # valid regex\n",
    "            pattern=CRS_REGEX,\n",
    "            # some example CRS's\n",
    "            examples=[\"EPSG:4326\", \"ESRI:102310\"],\n",
    "        )\n",
    "\n",
    "    @classmethod\n",
    "    def validate(cls, v):\n",
    "        if not isinstance(v, str):\n",
    "            raise TypeError(\"string required!\")\n",
    "        if not re.match(CRS_REGEX, v):\n",
    "            raise ValueError(\"invalid CRS!\")\n",
    "        return v\n",
    "\n",
    "    def __repr__(self):\n",
    "        return f\"CRS({super().__repr__()})\"\n",
    "\n",
    "\n",
    "class MyModel(BaseModel):\n",
    "    crs: CRS"
   ]
  },
  {
   "cell_type": "code",
   "execution_count": 87,
   "metadata": {},
   "outputs": [],
   "source": [
    "# Valid\n",
    "my_instance = MyModel(crs=\"EPSG:4326\")"
   ]
  },
  {
   "cell_type": "code",
   "execution_count": 88,
   "metadata": {},
   "outputs": [
    {
     "ename": "ValidationError",
     "evalue": "1 validation error for MyModel\ncrs\n  invalid CRS! (type=value_error)",
     "output_type": "error",
     "traceback": [
      "\u001b[0;31m---------------------------------------------------------------------------\u001b[0m",
      "\u001b[0;31mValidationError\u001b[0m                           Traceback (most recent call last)",
      "\u001b[1;32m/workspaces/pydantic-demo/demo.ipynb Cell 31'\u001b[0m in \u001b[0;36m<cell line: 2>\u001b[0;34m()\u001b[0m\n\u001b[1;32m      <a href='vscode-notebook-cell://dev-container%2B633a5c55736572735c6d6174742e6d6f727269735c70726f6a656374735c707964616e7469632d64656d6f/workspaces/pydantic-demo/demo.ipynb#ch0000053vscode-remote?line=0'>1</a>\u001b[0m \u001b[39m# Valid\u001b[39;00m\n\u001b[0;32m----> <a href='vscode-notebook-cell://dev-container%2B633a5c55736572735c6d6174742e6d6f727269735c70726f6a656374735c707964616e7469632d64656d6f/workspaces/pydantic-demo/demo.ipynb#ch0000053vscode-remote?line=1'>2</a>\u001b[0m my_instance \u001b[39m=\u001b[39m MyModel(crs\u001b[39m=\u001b[39;49m\u001b[39m\"\u001b[39;49m\u001b[39mMY_STRING\u001b[39;49m\u001b[39m\"\u001b[39;49m)\n",
      "File \u001b[0;32m/usr/local/lib/python3.10/site-packages/pydantic/main.py:331\u001b[0m, in \u001b[0;36mpydantic.main.BaseModel.__init__\u001b[0;34m()\u001b[0m\n",
      "\u001b[0;31mValidationError\u001b[0m: 1 validation error for MyModel\ncrs\n  invalid CRS! (type=value_error)"
     ]
    }
   ],
   "source": [
    "# Valid\n",
    "my_instance = MyModel(crs=\"MY_STRING\")"
   ]
  },
  {
   "cell_type": "markdown",
   "metadata": {},
   "source": [
    "### BaseSettings"
   ]
  },
  {
   "cell_type": "code",
   "execution_count": 89,
   "metadata": {},
   "outputs": [],
   "source": [
    "# We'll read some values from local files\n",
    "\n",
    "from pydantic import BaseSettings\n",
    "\n",
    "\n",
    "# Revisit Database, but now subclass `BaseSettings` instead of `BaseModel`\n",
    "class Database(BaseSettings):\n",
    "    connection_string: HttpUrl\n",
    "    user: str\n",
    "    password: SecretStr\n",
    "    tables: List[Table]\n",
    "\n",
    "    class Config:\n",
    "        # Give option to specify values in a secrets directory\n",
    "        secrets_dir = \"secrets\"  # directory with secrets values\n",
    "        env_file = \".env\"  # path to .env file\n",
    "        env_file_encoding = \"utf-8\"\n",
    "\n",
    "\n",
    "my_db = Database(connection_string=\"https://www.rsginc.com\", tables=[my_table])"
   ]
  },
  {
   "cell_type": "code",
   "execution_count": 90,
   "metadata": {},
   "outputs": [
    {
     "data": {
      "text/plain": [
       "'mypass'"
      ]
     },
     "execution_count": 90,
     "metadata": {},
     "output_type": "execute_result"
    }
   ],
   "source": [
    "my_db.password._secret_value"
   ]
  },
  {
   "cell_type": "markdown",
   "metadata": {},
   "source": [
    "### Other"
   ]
  },
  {
   "cell_type": "code",
   "execution_count": 92,
   "metadata": {},
   "outputs": [
    {
     "data": {
      "text/plain": [
       "'{\"title\": \"Database\", \"description\": \"Base class for settings, allowing values to be overridden by environment variables.\\\\n\\\\nThis is useful in production for secrets you do not wish to save in code, it plays nicely with docker(-compose),\\\\nHeroku and any 12 factor app design.\", \"type\": \"object\", \"properties\": {\"connection_string\": {\"title\": \"Connection String\", \"env_names\": [\"connection_string\"], \"minLength\": 1, \"maxLength\": 2083, \"format\": \"uri\", \"type\": \"string\"}, \"user\": {\"title\": \"User\", \"env_names\": [\"user\"], \"type\": \"string\"}, \"password\": {\"title\": \"Password\", \"env_names\": [\"password\"], \"type\": \"string\", \"writeOnly\": true, \"format\": \"password\"}, \"tables\": {\"title\": \"Tables\", \"env_names\": [\"tables\"], \"type\": \"array\", \"items\": {\"$ref\": \"#/definitions/Table\"}}}, \"required\": [\"connection_string\", \"user\", \"password\", \"tables\"], \"additionalProperties\": false, \"definitions\": {\"Column\": {\"title\": \"Column\", \"type\": \"object\", \"properties\": {\"name\": {\"title\": \"Name\", \"type\": \"string\"}, \"dtype\": {\"title\": \"Dtype\", \"enum\": [\"integer\", \"float\", \"string\", \"boolean\"], \"type\": \"string\"}, \"primary_key\": {\"title\": \"Primary Key\", \"default\": false, \"type\": \"boolean\"}, \"description\": {\"title\": \"Description\", \"type\": \"string\"}}, \"required\": [\"name\", \"dtype\"]}, \"Table\": {\"title\": \"Table\", \"type\": \"object\", \"properties\": {\"name\": {\"title\": \"Name\", \"type\": \"string\"}, \"columns\": {\"title\": \"Columns\", \"type\": \"array\", \"items\": {\"$ref\": \"#/definitions/Column\"}}}, \"required\": [\"name\", \"columns\"]}}}'"
      ]
     },
     "execution_count": 92,
     "metadata": {},
     "output_type": "execute_result"
    }
   ],
   "source": [
    "# View json schema\n",
    "Database.schema_json()"
   ]
  },
  {
   "cell_type": "code",
   "execution_count": 100,
   "metadata": {},
   "outputs": [],
   "source": [
    "# Generate instance from config file\n",
    "my_db = Database.parse_file(\"database.json\")"
   ]
  },
  {
   "cell_type": "code",
   "execution_count": 103,
   "metadata": {},
   "outputs": [],
   "source": [
    "# Generate instance from Python dictionary\n",
    "import yaml\n",
    "from pathlib import Path\n",
    "\n",
    "# Get data from .yaml file\n",
    "with Path(\"database.yaml\").open(\"r\") as file:\n",
    "    data = yaml.safe_load(file)\n",
    "\n",
    "my_db = Database.parse_obj(data)"
   ]
  }
 ],
 "metadata": {
  "interpreter": {
   "hash": "949777d72b0d2535278d3dc13498b2535136f6dfe0678499012e853ee9abcab1"
  },
  "kernelspec": {
   "display_name": "Python 3.10.4 64-bit",
   "language": "python",
   "name": "python3"
  },
  "language_info": {
   "codemirror_mode": {
    "name": "ipython",
    "version": 3
   },
   "file_extension": ".py",
   "mimetype": "text/x-python",
   "name": "python",
   "nbconvert_exporter": "python",
   "pygments_lexer": "ipython3",
   "version": "3.10.4"
  },
  "orig_nbformat": 4
 },
 "nbformat": 4,
 "nbformat_minor": 2
}
